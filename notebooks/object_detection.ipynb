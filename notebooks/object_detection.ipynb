{
 "cells": [
  {
   "cell_type": "code",
   "execution_count": 1,
   "metadata": {},
   "outputs": [],
   "source": [
    "import sys\n",
    "import os\n",
    "import matplotlib.pyplot as plt"
   ]
  },
  {
   "cell_type": "code",
   "execution_count": 2,
   "metadata": {},
   "outputs": [
    {
     "data": {
      "text/plain": [
       "'/home/abubeker_shamil/Automated_Ad_Storyboard_Synthesis'"
      ]
     },
     "execution_count": 2,
     "metadata": {},
     "output_type": "execute_result"
    }
   ],
   "source": [
    "os.chdir('..')\n",
    "os.getcwd()"
   ]
  },
  {
   "cell_type": "code",
   "execution_count": 3,
   "metadata": {},
   "outputs": [],
   "source": [
    "import cv2  # Import OpenCV\n",
    "import torch"
   ]
  },
  {
   "cell_type": "code",
   "execution_count": 4,
   "metadata": {},
   "outputs": [
    {
     "data": {
      "text/plain": [
       "False"
      ]
     },
     "execution_count": 4,
     "metadata": {},
     "output_type": "execute_result"
    }
   ],
   "source": [
    "# check if CUDA is available\n",
    "torch.cuda.is_available()"
   ]
  },
  {
   "cell_type": "code",
   "execution_count": 6,
   "metadata": {},
   "outputs": [],
   "source": [
    "image = cv2.imread('data/adluido/Challenge_Data/Assets/0a22f881b77f00220f2034c21a18b854/header.jpg')"
   ]
  },
  {
   "cell_type": "code",
   "execution_count": 7,
   "metadata": {},
   "outputs": [
    {
     "data": {
      "text/plain": [
       "(200, 600, 3)"
      ]
     },
     "execution_count": 7,
     "metadata": {},
     "output_type": "execute_result"
    }
   ],
   "source": [
    "image.shape"
   ]
  },
  {
   "cell_type": "code",
   "execution_count": 8,
   "metadata": {},
   "outputs": [
    {
     "name": "stderr",
     "output_type": "stream",
     "text": [
      "Using cache found in /home/abubeker_shamil/.cache/torch/hub/ultralytics_yolov5_master\n",
      "YOLOv5 🚀 2024-7-12 Python-3.8.10 torch-2.3.1 CPU\n",
      "\n",
      "Fusing layers... \n",
      "YOLOv5s summary: 213 layers, 7225885 parameters, 0 gradients, 16.4 GFLOPs\n",
      "Adding AutoShape... \n"
     ]
    }
   ],
   "source": [
    "model = torch.hub.load('ultralytics/yolov5', 'yolov5s', pretrained=True)"
   ]
  },
  {
   "cell_type": "code",
   "execution_count": 9,
   "metadata": {},
   "outputs": [],
   "source": [
    "results = model(image)"
   ]
  },
  {
   "cell_type": "code",
   "execution_count": 10,
   "metadata": {},
   "outputs": [
    {
     "data": {
      "text/plain": [
       "YOLOv5 <class 'models.common.Detections'> instance\n",
       "image 1/1: 200x600 (no detections)\n",
       "Speed: 2.3ms pre-process, 78.3ms inference, 0.5ms NMS per image at shape (1, 3, 224, 640)"
      ]
     },
     "execution_count": 10,
     "metadata": {},
     "output_type": "execute_result"
    }
   ],
   "source": [
    "results"
   ]
  },
  {
   "cell_type": "code",
   "execution_count": 11,
   "metadata": {},
   "outputs": [],
   "source": [
    "# Define paths\n",
    "assets_dir = 'data/adluido/Challenge_Data/Assets/0a22f881b77f00220f2034c21a18b854'\n",
    "sample_image_path = os.path.join(assets_dir, 'rev-thumbnail-mpu.jpg')  # Change this to an actual image file name in the directory"
   ]
  },
  {
   "cell_type": "code",
   "execution_count": 12,
   "metadata": {},
   "outputs": [
    {
     "name": "stderr",
     "output_type": "stream",
     "text": [
      "Using cache found in /home/abubeker_shamil/.cache/torch/hub/ultralytics_yolov5_master\n",
      "YOLOv5 🚀 2024-7-12 Python-3.8.10 torch-2.3.1 CPU\n",
      "\n",
      "Fusing layers... \n",
      "YOLOv5s summary: 213 layers, 7225885 parameters, 0 gradients, 16.4 GFLOPs\n",
      "Adding AutoShape... \n"
     ]
    },
    {
     "name": "stdout",
     "output_type": "stream",
     "text": [
      "Object detection result saved as 'results/object_detection_result.png'\n"
     ]
    },
    {
     "data": {
      "text/plain": [
       "'results/object_detection_result.png'"
      ]
     },
     "execution_count": 12,
     "metadata": {},
     "output_type": "execute_result"
    }
   ],
   "source": [
    "from src.object_detection import load_yolo_model, detect_objects, plot_results\n",
    "import matplotlib.pyplot as plt\n",
    "\n",
    "# Load YOLO model\n",
    "yolo_model = load_yolo_model()\n",
    "\n",
    "# Perform object detection\n",
    "results = detect_objects(yolo_model, sample_image_path)\n",
    "\n",
    "# Plot detection results\n",
    "plot_results(results, sample_image_path)"
   ]
  },
  {
   "cell_type": "code",
   "execution_count": 13,
   "metadata": {},
   "outputs": [
    {
     "name": "stdout",
     "output_type": "stream",
     "text": [
      "Object detection result saved as 'results/object_detection_result.png'\n"
     ]
    },
    {
     "data": {
      "text/plain": [
       "'results/object_detection_result.png'"
      ]
     },
     "execution_count": 13,
     "metadata": {},
     "output_type": "execute_result"
    }
   ],
   "source": [
    "\n",
    "# Plot detection results\n",
    "plot_results(results, sample_image_path)"
   ]
  },
  {
   "cell_type": "code",
   "execution_count": 14,
   "metadata": {},
   "outputs": [],
   "source": [
    "image = cv2.imread(sample_image_path)\n",
    "if image is None:\n",
    "    raise FileNotFoundError(f\"Image not found at path: {sample_image_path}\")\n",
    "\n",
    "plt.imshow(cv2.cvtColor(image, cv2.COLOR_BGR2RGB))\n",
    "# plt.axis('off')\n",
    "plt.show()"
   ]
  },
  {
   "cell_type": "code",
   "execution_count": 15,
   "metadata": {},
   "outputs": [
    {
     "name": "stderr",
     "output_type": "stream",
     "text": [
      "Using cache found in /home/abubeker_shamil/.cache/torch/hub/ultralytics_yolov5_master\n",
      "YOLOv5 🚀 2024-7-12 Python-3.8.10 torch-2.3.1 CPU\n",
      "\n",
      "Fusing layers... \n",
      "YOLOv5s summary: 213 layers, 7225885 parameters, 0 gradients, 16.4 GFLOPs\n",
      "Adding AutoShape... \n"
     ]
    },
    {
     "name": "stdout",
     "output_type": "stream",
     "text": [
      "Object detection result saved as 'results/object_detection_result.png'\n",
      "Please check the saved image at: results/object_detection_result.png\n"
     ]
    }
   ],
   "source": [
    "# Ensure the image file exists\n",
    "if not os.path.exists(sample_image_path):\n",
    "    print(f\"Error: Image file not found at {sample_image_path}\")\n",
    "    pass\n",
    "\n",
    "# Load YOLO model\n",
    "yolo_model = load_yolo_model()\n",
    "\n",
    "# Perform object detection\n",
    "results = detect_objects(yolo_model, sample_image_path)\n",
    "\n",
    "# Plot and save results\n",
    "output_path = plot_results(results, sample_image_path)\n",
    "\n",
    "print(f\"Please check the saved image at: {output_path}\")\n",
    "\n",
    "# Optionally, try to display the plot interactively\n",
    "try:\n",
    "    img = plt.imread(output_path)\n",
    "    plt.imshow(img)\n",
    "    plt.axis('off')\n",
    "    plt.show()\n",
    "except Exception as e:\n",
    "    print(f\"Could not display the plot interactively: {e}\")\n",
    "    print(\"Please open the saved image file to view the results.\")\n"
   ]
  }
 ],
 "metadata": {
  "kernelspec": {
   "display_name": "adluido",
   "language": "python",
   "name": "python3"
  },
  "language_info": {
   "codemirror_mode": {
    "name": "ipython",
    "version": 3
   },
   "file_extension": ".py",
   "mimetype": "text/x-python",
   "name": "python",
   "nbconvert_exporter": "python",
   "pygments_lexer": "ipython3",
   "version": "3.8.10"
  }
 },
 "nbformat": 4,
 "nbformat_minor": 2
}
