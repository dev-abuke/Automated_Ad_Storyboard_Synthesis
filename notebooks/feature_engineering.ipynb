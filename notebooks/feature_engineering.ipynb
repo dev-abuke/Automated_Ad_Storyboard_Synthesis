{
 "cells": [
  {
   "cell_type": "code",
   "execution_count": 72,
   "id": "73368abd",
   "metadata": {},
   "outputs": [],
   "source": [
    "%reload_ext autoreload\n",
    "%autoreload 2"
   ]
  },
  {
   "cell_type": "code",
   "execution_count": 73,
   "id": "65476ee4",
   "metadata": {},
   "outputs": [],
   "source": [
    "%reload_ext autoreload"
   ]
  },
  {
   "cell_type": "code",
   "execution_count": 74,
   "id": "c47e59f6",
   "metadata": {},
   "outputs": [],
   "source": [
    "import pandas as pd\n",
    "import numpy as np  \n",
    "import matplotlib.pyplot as plt \n",
    "import os\n",
    "import sys\n",
    "import json"
   ]
  },
  {
   "cell_type": "code",
   "execution_count": 69,
   "id": "9d78ab00",
   "metadata": {},
   "outputs": [
    {
     "data": {
      "text/plain": [
       "'/home/abubeker_shamil/Automated_Ad_Storyboard_Synthesis'"
      ]
     },
     "execution_count": 69,
     "metadata": {},
     "output_type": "execute_result"
    }
   ],
   "source": [
    "os.getcwd()"
   ]
  },
  {
   "cell_type": "code",
   "execution_count": 5,
   "id": "e480bf09",
   "metadata": {},
   "outputs": [],
   "source": [
    "# Add src to system path to import data_loader\n",
    "sys.path.append(os.path.abspath(os.path.join('..', 'src')))\n",
    "sys.path.append(os.path.abspath(os.path.join('..')))"
   ]
  },
  {
   "cell_type": "code",
   "execution_count": 6,
   "id": "1ed019da",
   "metadata": {},
   "outputs": [
    {
     "data": {
      "text/plain": [
       "['/usr/lib/python38.zip',\n",
       " '/usr/lib/python3.8',\n",
       " '/usr/lib/python3.8/lib-dynload',\n",
       " '',\n",
       " '/home/abubeker_shamil/Automated_Ad_Storyboard_Synthesis/adluido/lib/python3.8/site-packages',\n",
       " '/home/abubeker_shamil/Automated_Ad_Storyboard_Synthesis/src',\n",
       " '/home/abubeker_shamil/Automated_Ad_Storyboard_Synthesis']"
      ]
     },
     "execution_count": 6,
     "metadata": {},
     "output_type": "execute_result"
    }
   ],
   "source": [
    "sys.path"
   ]
  },
  {
   "cell_type": "code",
   "execution_count": 7,
   "id": "1d9eeb82",
   "metadata": {},
   "outputs": [
    {
     "data": {
      "text/plain": [
       "'/home/abubeker_shamil/Automated_Ad_Storyboard_Synthesis'"
      ]
     },
     "execution_count": 7,
     "metadata": {},
     "output_type": "execute_result"
    }
   ],
   "source": [
    "os.chdir(\"..\")\n",
    "os.getcwd()"
   ]
  },
  {
   "cell_type": "code",
   "execution_count": 8,
   "id": "d9b11020-e721-4a4e-b905-1498096d44a7",
   "metadata": {},
   "outputs": [],
   "source": [
    "filepath = \"data/adluido/Challenge_Data/performance_data.csv\"\n",
    "assets_dir = '/home/abubeker_shamil/Automated_Ad_Storyboard_Synthesis/data/adluido/Challenge_Data/Assets'\n",
    "categories_path = 'data/adluido/categories.txt'\n",
    "concepts_path = 'data/adluido/concepts.json'\n",
    "performance_data_path = 'data/adluido/Challenge_Data/performance_data.csv'"
   ]
  },
  {
   "cell_type": "code",
   "execution_count": 7,
   "id": "ed48e342",
   "metadata": {},
   "outputs": [],
   "source": [
    "from src.feature_engineering import extract_features, apply_pca, load_image_batches"
   ]
  },
  {
   "cell_type": "code",
   "execution_count": 8,
   "id": "6bc5ed7a",
   "metadata": {},
   "outputs": [
    {
     "name": "stdout",
     "output_type": "stream",
     "text": [
      "Loaded 10000 processed images\n",
      "Extracting features...\n"
     ]
    },
    {
     "name": "stderr",
     "output_type": "stream",
     "text": [
      "Extracting features: 100%|██████████| 10000/10000 [05:25<00:00, 30.74it/s]\n"
     ]
    },
    {
     "name": "stdout",
     "output_type": "stream",
     "text": [
      "Extracted features shape: (10000, 34336)\n",
      "Applying PCA...\n",
      "PCA features shape: (10000, 100)\n",
      "Saved image features to image_features.npy\n"
     ]
    }
   ],
   "source": [
    "# Load processed image data\n",
    "image_data = load_image_batches('.')\n",
    "print(f\"Loaded {len(image_data)} processed images\")\n",
    "\n",
    "# Extract features\n",
    "print(\"Extracting features...\")\n",
    "features = extract_features(image_data)\n",
    "print(f\"Extracted features shape: {features.shape}\")\n",
    "\n",
    "# Apply PCA\n",
    "print(\"Applying PCA...\")\n",
    "pca_features = apply_pca(features)\n",
    "print(f\"PCA features shape: {pca_features.shape}\")\n",
    "\n",
    "# Save features\n",
    "np.save('image_features.npy', pca_features)\n",
    "print(\"Saved image features to image_features.npy\")"
   ]
  },
  {
   "cell_type": "markdown",
   "id": "d8d3daf5",
   "metadata": {},
   "source": [
    "### Feature Analysis and Visualization"
   ]
  },
  {
   "cell_type": "code",
   "execution_count": 15,
   "id": "86fc9797",
   "metadata": {},
   "outputs": [],
   "source": [
    "from src.feature_analysis import load_features, visualize_pca_variance, apply_tsne, visualize_tsne, apply_kmeans, visualize_kmeans"
   ]
  },
  {
   "cell_type": "code",
   "execution_count": 17,
   "id": "c89af8ba",
   "metadata": {},
   "outputs": [
    {
     "name": "stdout",
     "output_type": "stream",
     "text": [
      "Loaded features with shape: (10000, 100)\n"
     ]
    }
   ],
   "source": [
    "# Load the features\n",
    "features = load_features('image_features.npy')\n",
    "print(f\"Loaded features with shape: {features.shape}\")"
   ]
  },
  {
   "cell_type": "code",
   "execution_count": 18,
   "id": "5dc02bc6",
   "metadata": {},
   "outputs": [
    {
     "name": "stdout",
     "output_type": "stream",
     "text": [
      "PCA variance visualization saved as 'pca_variance.png'\n"
     ]
    }
   ],
   "source": [
    "# Visualize PCA variance\n",
    "visualize_pca_variance(features)\n",
    "print(\"PCA variance visualization saved as 'pca_variance.png'\")"
   ]
  },
  {
   "cell_type": "markdown",
   "id": "e39e3ffd",
   "metadata": {},
   "source": [
    "Cumulative Explained Variance Ratio vs. Number of PCA Components:\n",
    "This graph shows how much of the total variance in our data is explained by each principal component. We can see that:\n",
    "\n",
    "\n",
    "The curve rises steeply at first and then starts to level off\n",
    "Around 20-30 components explain about 80% of the variance\n",
    "Using 100 components (as we did) captures over 95% of the variance\n",
    "\n",
    "This suggests that our PCA reduction to 100 components was effective in preserving most of the important information while significantly reducing dimensionality."
   ]
  },
  {
   "cell_type": "markdown",
   "id": "30e55107",
   "metadata": {},
   "source": [
    "![alt text](../pca_variance.png)"
   ]
  },
  {
   "cell_type": "code",
   "execution_count": 19,
   "id": "824b582c",
   "metadata": {},
   "outputs": [
    {
     "name": "stdout",
     "output_type": "stream",
     "text": [
      "t-SNE visualization saved as 'tsne_visualization.png'\n"
     ]
    }
   ],
   "source": [
    "# Apply t-SNE\n",
    "tsne_results = apply_tsne(features)\n",
    "visualize_tsne(tsne_results)\n",
    "print(\"t-SNE visualization saved as 'tsne_visualization.png'\")"
   ]
  },
  {
   "cell_type": "markdown",
   "id": "04a6e4d0",
   "metadata": {},
   "source": [
    "t-SNE visualization of image features\n",
    "This plot shows the distribution of our image features in a 2D space. We can observe:\n",
    "\n",
    "A complex, non-linear structure in the data\n",
    "Some clear clusters and subgroups\n",
    "A generally even spread of points, with some denser regions\n",
    "\n",
    "This visualization confirms that our images have diverse features and that there are underlying patterns in the data."
   ]
  },
  {
   "cell_type": "markdown",
   "id": "e4d32208",
   "metadata": {},
   "source": [
    "![alt text](../tsne_visualization.png)"
   ]
  },
  {
   "cell_type": "code",
   "execution_count": 20,
   "id": "68ce024d",
   "metadata": {},
   "outputs": [
    {
     "name": "stderr",
     "output_type": "stream",
     "text": [
      "/home/abubeker_shamil/Automated_Ad_Storyboard_Synthesis/adluido/lib/python3.8/site-packages/sklearn/cluster/_kmeans.py:1416: FutureWarning: The default value of `n_init` will change from 10 to 'auto' in 1.4. Set the value of `n_init` explicitly to suppress the warning\n",
      "  super()._check_params_vs_input(X, default_n_init=10)\n"
     ]
    },
    {
     "name": "stdout",
     "output_type": "stream",
     "text": [
      "K-means clustering visualization saved as 'kmeans_clustering.png'\n",
      "Analysis complete. Check the generated PNG files for visualizations.\n"
     ]
    }
   ],
   "source": [
    "# Apply K-means clustering\n",
    "cluster_labels = apply_kmeans(features)\n",
    "visualize_kmeans(tsne_results, cluster_labels)\n",
    "print(\"K-means clustering visualization saved as 'kmeans_clustering.png'\")\n",
    "\n",
    "print(\"Analysis complete. Check the generated PNG files for visualizations.\")"
   ]
  },
  {
   "cell_type": "markdown",
   "id": "d4ee9e32",
   "metadata": {},
   "source": [
    "K-means clustering of image features (t-SNE visualization):\n",
    "This plot shows distinct clusters of image features, indicating that our feature extraction process has successfully captured meaningful differences between images. We can observe that\n",
    "\n",
    "\n",
    "5 main clusters, each represented by a different color\n",
    "Some overlap between clusters, suggesting similarities between certain groups of images\n",
    "A spread of data points, indicating a diverse range of features\n",
    "\n",
    "This clustering could represent different types of images or elements within our ad creatives (e.g., text-heavy images, product shots, people, backgrounds, etc.)."
   ]
  },
  {
   "cell_type": "markdown",
   "id": "878119c8",
   "metadata": {},
   "source": [
    "![alt text](../kmeans_clustering.png)"
   ]
  },
  {
   "cell_type": "markdown",
   "id": "d01b43c1",
   "metadata": {},
   "source": [
    "Based on these visualizations, we can conclude that\n",
    "\n",
    "There are distinct groups or types of images in our dataset.\n",
    "The PCA reduction preserved most of the important information.\n",
    "The data has a complex structure that could be challenging but informative for our Critic/Grading Agent."
   ]
  },
  {
   "cell_type": "code",
   "execution_count": 17,
   "id": "d9b30aac",
   "metadata": {},
   "outputs": [],
   "source": [
    "from src.advanced_image_analysis import load_data, investigate_clusters, analyze_feature_importance, correlate_with_performance"
   ]
  },
  {
   "cell_type": "markdown",
   "id": "502dc91d",
   "metadata": {},
   "source": [
    "### Advanced Analysis"
   ]
  },
  {
   "cell_type": "code",
   "execution_count": 10,
   "id": "86002d22",
   "metadata": {},
   "outputs": [
    {
     "name": "stderr",
     "output_type": "stream",
     "text": [
      "/home/abubeker_shamil/Automated_Ad_Storyboard_Synthesis/adluido/lib/python3.8/site-packages/sklearn/cluster/_kmeans.py:1416: FutureWarning: The default value of `n_init` will change from 10 to 'auto' in 1.4. Set the value of `n_init` explicitly to suppress the warning\n",
      "  super()._check_params_vs_input(X, default_n_init=10)\n"
     ]
    },
    {
     "name": "stdout",
     "output_type": "stream",
     "text": [
      "Cluster sizes: [1001 2012 3434 1233 2320]\n",
      "Indices of closest points to cluster centers: [280, 113, 2117, 692, 619]\n"
     ]
    }
   ],
   "source": [
    "image_features, performance_data = load_data()\n",
    "\n",
    "# Investigate clusters\n",
    "cluster_labels, closest_points = investigate_clusters(image_features)\n",
    "print(f\"Cluster sizes: {np.bincount(cluster_labels)}\")\n",
    "print(f\"Indices of closest points to cluster centers: {closest_points}\")"
   ]
  },
  {
   "cell_type": "markdown",
   "id": "4fc5b6d1",
   "metadata": {},
   "source": [
    "#### Cluster Sizes\n",
    "Cluster 0: 1001\n",
    "Cluster 1: 2012\n",
    "Cluster 2: 3434\n",
    "Cluster 3: 1233\n",
    "Cluster 4: 2320\n",
    "\n",
    "This shows that Cluster 2 is the largest, containing about 34% of the images, while Cluster 0 is the smallest with about 10% of the images.\n",
    "#### Indices of closest points to cluster centers: [280, 113, 2117, 692, 619]\n",
    "These indices represent the images that are most representative of each cluster. We could use these as exemplars when visually analyzing the characteristics of each cluster.\n",
    "#### Average ER and CTR by Cluster\n",
    "Cluster 0: ER = 0.232770, CTR = 0.107503 (Lowest ER, Second-lowest CTR)\n",
    "Cluster 1: ER = 0.276470, CTR = 0.116850 (Highest ER, Third-highest CTR)\n",
    "Cluster 2: ER = 0.261782, CTR = 0.112727 (Middle ER, Lowest CTR)\n",
    "Cluster 3: ER = 0.258947, CTR = 0.131149 (Second-lowest ER, Highest CTR)\n",
    "Cluster 4: ER = 0.263384, CTR = 0.116623 (Middle ER, Second-highest CTR)\n",
    "#### Sample feature values for each cluster\n",
    "This data shows the values of the first 7 features for the central point of each cluster. We can see significant differences between clusters, which explains why they were separated."
   ]
  },
  {
   "cell_type": "code",
   "execution_count": 11,
   "id": "b09c889e",
   "metadata": {},
   "outputs": [
    {
     "name": "stdout",
     "output_type": "stream",
     "text": [
      "Number of components needed to explain 90% of variance: 51\n"
     ]
    }
   ],
   "source": [
    "# Analyze feature importance\n",
    "n_components_90 = analyze_feature_importance(image_features)\n",
    "print(f\"Number of components needed to explain 90% of variance: {n_components_90}\")"
   ]
  },
  {
   "cell_type": "markdown",
   "id": "5659b180",
   "metadata": {},
   "source": [
    "PCA: Cumulative Explained Variance Ratio\n",
    "The graph shows that 90% of the variance in our data can be explained by 51 components. This is a significant reduction from our original feature space while still retaining most of the information. It suggests that we can effectively reduce the dimensionality of our data from 100 to 51 components without losing much important information."
   ]
  },
  {
   "cell_type": "markdown",
   "id": "e2d2f417",
   "metadata": {},
   "source": [
    "![alt text](../pca_explained_variance.png)"
   ]
  },
  {
   "cell_type": "code",
   "execution_count": 40,
   "id": "a120ceba",
   "metadata": {},
   "outputs": [
    {
     "name": "stdout",
     "output_type": "stream",
     "text": [
      "Number of samples with both image features and performance data: 905\n",
      "Average ER and CTR by cluster:\n",
      "Analysis complete. Check the generated PNG files for visualizations.\n"
     ]
    }
   ],
   "source": [
    "# Correlate with performance\n",
    "cluster_performance, merged_data = correlate_with_performance(image_features, performance_data, cluster_labels)\n",
    "print(\"Average ER and CTR by cluster:\")\n",
    "\n",
    "print(\"Analysis complete. Check the generated PNG files for visualizations.\")"
   ]
  },
  {
   "cell_type": "code",
   "execution_count": 42,
   "id": "1139a745",
   "metadata": {},
   "outputs": [],
   "source": [
    "\n",
    "cluster_performance.to_csv('cluster_performance.csv')"
   ]
  },
  {
   "cell_type": "markdown",
   "id": "f2f44a0b",
   "metadata": {},
   "source": [
    "Average ER and CTR by Cluster\n",
    "This graph provides valuable insights into the performance of different image clusters\n",
    "\n",
    "\n",
    "Cluster 1 has the highest Engagement Rate (ER) but not the highest Click-Through Rate (CTR).\n",
    "Cluster 3 has the highest CTR, though its ER is slightly lower than Cluster 1.\n",
    "Cluster 0 has the lowest performance in both ER and CTR.\n",
    "Clusters 2 and 4 show moderate performance in both metrics."
   ]
  },
  {
   "cell_type": "markdown",
   "id": "0fe4c922",
   "metadata": {},
   "source": [
    "![alt text](../cluster_performance.png)"
   ]
  },
  {
   "cell_type": "markdown",
   "id": "74d1e22c",
   "metadata": {},
   "source": [
    "Cluster Analysis:\n",
    "\n",
    "**Cluster** 1 (20% of images) performs best overall, with the highest ER and good CTR. This should be a primary focus for our Critic/Grading Agent.\n",
    "\n",
    "**Cluster** 3 (12% of images) has the highest CTR but lower ER. It could represent images that are very effective at generating clicks once a user engages.\n",
    "\n",
    "**Cluster** 2 (34% of images) has middling ER but the lowest CTR. This large cluster might represent \"average\" images that engage users but don't drive clicks effectively.\n",
    "\n",
    "**Cluster** 0 (10% of images) performs poorest overall and should be studied to understand what to avoid.\n",
    "\n",
    "**Cluster** 4 (23% of images) shows balanced performance and could represent a safe, middle-ground approach."
   ]
  },
  {
   "cell_type": "markdown",
   "id": "422bd0c2",
   "metadata": {},
   "source": [
    "### Cluster Analysis and Visualization"
   ]
  },
  {
   "cell_type": "code",
   "execution_count": 84,
   "id": "202ef480",
   "metadata": {},
   "outputs": [],
   "source": [
    "from src.cluster_visualization import visualize_cluster_representatives, load_image_data"
   ]
  },
  {
   "cell_type": "code",
   "execution_count": 107,
   "id": "18e58ccb",
   "metadata": {},
   "outputs": [
    {
     "name": "stdout",
     "output_type": "stream",
     "text": [
      "Loaded 16273 images\n",
      "Index From Cluster Visualization is : 20 and len(image_data) : 16273\n",
      "The Preview image path is :: data/adluido/Challenge_Data/Assets/248ad697696f5e5ef82b968bfe5480ba/_preview.png image folder path is :: data/adluido/Challenge_Data/Assets/248ad697696f5e5ef82b968bfe5480ba\n",
      "Index From Cluster Visualization is : 11 and len(image_data) : 16273\n",
      "The Preview image path is :: data/adluido/Challenge_Data/Assets/05dff647236dcc065f51eea259e8a120/_preview.png image folder path is :: data/adluido/Challenge_Data/Assets/05dff647236dcc065f51eea259e8a120\n",
      "Index From Cluster Visualization is : 50 and len(image_data) : 16273\n",
      "The Preview image path is :: data/adluido/Challenge_Data/Assets/bcc5ae4665b6b8c2ff25dfdc65fbc65a/_preview.png image folder path is :: data/adluido/Challenge_Data/Assets/bcc5ae4665b6b8c2ff25dfdc65fbc65a\n",
      "Index From Cluster Visualization is : 67 and len(image_data) : 16273\n",
      "The Preview image path is :: data/adluido/Challenge_Data/Assets/bcc5ae4665b6b8c2ff25dfdc65fbc65a/_preview.png image folder path is :: data/adluido/Challenge_Data/Assets/bcc5ae4665b6b8c2ff25dfdc65fbc65a\n",
      "Index From Cluster Visualization is : 87 and len(image_data) : 16273\n",
      "The Preview image path is :: data/adluido/Challenge_Data/Assets/d1e28a38a4e871527e62543540d0e7a7/_preview.png image folder path is :: data/adluido/Challenge_Data/Assets/d1e28a38a4e871527e62543540d0e7a7\n",
      "Cluster representative images have been saved as 'cluster_representatives.png'\n"
     ]
    }
   ],
   "source": [
    "assets_dir = 'data/adluido/Challenge_Data/Assets'\n",
    "indices = [280, 113, 2117, 692, 619]  # Indices of closest points to cluster centers\n",
    "\n",
    "image_data = load_image_data(assets_dir)\n",
    "print(f\"Loaded {len(image_data)} images\")\n",
    "\n",
    "# Correct cluster performance data\n",
    "cluster_performance = pd.read_csv('cluster_performance.csv')\n",
    "\n",
    "visualize_cluster_representatives(indices, image_data, cluster_performance)\n",
    "print(\"Cluster representative images have been saved as 'cluster_representatives.png'\")"
   ]
  },
  {
   "cell_type": "markdown",
   "id": "ef080d03",
   "metadata": {},
   "source": [
    "## Corelation Analysis"
   ]
  },
  {
   "cell_type": "code",
   "execution_count": 103,
   "id": "e2e0f4d1",
   "metadata": {},
   "outputs": [],
   "source": [
    "from src.corelation_analysis import load_data, correlate_features_with_performance, visualize_top_features, analyze_performance_distribution"
   ]
  },
  {
   "cell_type": "code",
   "execution_count": 105,
   "id": "20cf9206",
   "metadata": {},
   "outputs": [
    {
     "name": "stdout",
     "output_type": "stream",
     "text": [
      "Top 5 features correlated with ER:\n",
      "ER     1.000000\n",
      "CTR    0.453146\n",
      "20     0.096262\n",
      "11     0.069027\n",
      "50     0.064961\n",
      "Name: ER, dtype: float64\n",
      "\n",
      "Top 5 features correlated with CTR:\n",
      "CTR    1.000000\n",
      "ER     0.453146\n",
      "67     0.087513\n",
      "20     0.084923\n",
      "87     0.079520\n",
      "Name: CTR, dtype: float64\n",
      "\n",
      "Analysis complete. Check the generated PNG files for visualizations.\n"
     ]
    }
   ],
   "source": [
    "image_features, performance_data = load_data()\n",
    "\n",
    "correlation_er, correlation_ctr = correlate_features_with_performance(image_features, performance_data)\n",
    "visualize_top_features(correlation_er, correlation_ctr)\n",
    "\n",
    "analyze_performance_distribution(performance_data)\n",
    "\n",
    "print(\"Top 5 features correlated with ER:\")\n",
    "print(correlation_er[:5])\n",
    "print(\"\\nTop 5 features correlated with CTR:\")\n",
    "print(correlation_ctr[:5])\n",
    "\n",
    "print(\"\\nAnalysis complete. Check the generated PNG files for visualizations.\")"
   ]
  }
 ],
 "metadata": {
  "kernelspec": {
   "display_name": "Python 3 (ipykernel)",
   "language": "python",
   "name": "python3"
  },
  "language_info": {
   "codemirror_mode": {
    "name": "ipython",
    "version": 3
   },
   "file_extension": ".py",
   "mimetype": "text/x-python",
   "name": "python",
   "nbconvert_exporter": "python",
   "pygments_lexer": "ipython3",
   "version": "3.8.10"
  }
 },
 "nbformat": 4,
 "nbformat_minor": 5
}
