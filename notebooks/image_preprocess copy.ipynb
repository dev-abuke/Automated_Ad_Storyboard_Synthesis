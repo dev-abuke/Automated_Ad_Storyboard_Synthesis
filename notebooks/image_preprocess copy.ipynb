{
 "cells": [
  {
   "cell_type": "code",
   "execution_count": 1,
   "id": "c47e59f6",
   "metadata": {},
   "outputs": [],
   "source": [
    "import pandas as pd\n",
    "import numpy as np  \n",
    "import matplotlib.pyplot as plt \n",
    "import os\n",
    "import sys\n",
    "import json"
   ]
  },
  {
   "cell_type": "code",
   "execution_count": 2,
   "id": "9d78ab00",
   "metadata": {},
   "outputs": [
    {
     "data": {
      "text/plain": [
       "'/home/abubeker_shamil/Automated_Ad_Storyboard_Synthesis/notebooks'"
      ]
     },
     "execution_count": 2,
     "metadata": {},
     "output_type": "execute_result"
    }
   ],
   "source": [
    "os.getcwd()"
   ]
  },
  {
   "cell_type": "code",
   "execution_count": 3,
   "id": "e480bf09",
   "metadata": {},
   "outputs": [],
   "source": [
    "# Add src to system path to import data_loader\n",
    "sys.path.append(os.path.abspath(os.path.join('..', 'src')))\n",
    "sys.path.append(os.path.abspath(os.path.join('..')))"
   ]
  },
  {
   "cell_type": "code",
   "execution_count": 4,
   "id": "1ed019da",
   "metadata": {},
   "outputs": [
    {
     "data": {
      "text/plain": [
       "['/usr/lib/python38.zip',\n",
       " '/usr/lib/python3.8',\n",
       " '/usr/lib/python3.8/lib-dynload',\n",
       " '',\n",
       " '/home/abubeker_shamil/Automated_Ad_Storyboard_Synthesis/adluido/lib/python3.8/site-packages',\n",
       " '/home/abubeker_shamil/Automated_Ad_Storyboard_Synthesis/src',\n",
       " '/home/abubeker_shamil/Automated_Ad_Storyboard_Synthesis']"
      ]
     },
     "execution_count": 4,
     "metadata": {},
     "output_type": "execute_result"
    }
   ],
   "source": [
    "sys.path"
   ]
  },
  {
   "cell_type": "code",
   "execution_count": 5,
   "id": "1d9eeb82",
   "metadata": {},
   "outputs": [
    {
     "data": {
      "text/plain": [
       "'/home/abubeker_shamil/Automated_Ad_Storyboard_Synthesis'"
      ]
     },
     "execution_count": 5,
     "metadata": {},
     "output_type": "execute_result"
    }
   ],
   "source": [
    "os.chdir(\"..\")\n",
    "os.getcwd()"
   ]
  },
  {
   "cell_type": "code",
   "execution_count": 6,
   "id": "d9b11020-e721-4a4e-b905-1498096d44a7",
   "metadata": {},
   "outputs": [],
   "source": [
    "filepath = \"data/adluido/Challenge_Data/performance_data.csv\"\n",
    "assets_dir = '/home/abubeker_shamil/Automated_Ad_Storyboard_Synthesis/data/adluido/Challenge_Data/Assets'\n",
    "categories_path = 'data/adluido/categories.txt'\n",
    "concepts_path = 'data/adluido/concepts.json'\n",
    "performance_data_path = 'data/adluido/Challenge_Data/performance_data.csv'"
   ]
  },
  {
   "cell_type": "code",
   "execution_count": 7,
   "id": "e46fffb7",
   "metadata": {},
   "outputs": [],
   "source": [
    "performance_data = pd.read_csv(filepath)"
   ]
  },
  {
   "cell_type": "code",
   "execution_count": 8,
   "id": "f55d5c57",
   "metadata": {},
   "outputs": [
    {
     "data": {
      "text/html": [
       "<div>\n",
       "<style scoped>\n",
       "    .dataframe tbody tr th:only-of-type {\n",
       "        vertical-align: middle;\n",
       "    }\n",
       "\n",
       "    .dataframe tbody tr th {\n",
       "        vertical-align: top;\n",
       "    }\n",
       "\n",
       "    .dataframe thead th {\n",
       "        text-align: right;\n",
       "    }\n",
       "</style>\n",
       "<table border=\"1\" class=\"dataframe\">\n",
       "  <thead>\n",
       "    <tr style=\"text-align: right;\">\n",
       "      <th></th>\n",
       "      <th>game_id</th>\n",
       "      <th>preview_link</th>\n",
       "      <th>ER</th>\n",
       "      <th>CTR</th>\n",
       "    </tr>\n",
       "  </thead>\n",
       "  <tbody>\n",
       "    <tr>\n",
       "      <th>0</th>\n",
       "      <td>bfbf7a2b7ac635e67877b1ab87fd6629</td>\n",
       "      <td>https://s3.us-east-1.amazonaws.com/a.futureadl...</td>\n",
       "      <td>0.209269</td>\n",
       "      <td>0.058438</td>\n",
       "    </tr>\n",
       "    <tr>\n",
       "      <th>1</th>\n",
       "      <td>945010afbf9a55bbdffcb0895f946155</td>\n",
       "      <td>https://s3.us-east-1.amazonaws.com/a.futureadl...</td>\n",
       "      <td>0.274552</td>\n",
       "      <td>0.074731</td>\n",
       "    </tr>\n",
       "    <tr>\n",
       "      <th>2</th>\n",
       "      <td>e68e20f592457b875ce29757ab855dfe</td>\n",
       "      <td>https://s3.us-east-1.amazonaws.com/a.futureadl...</td>\n",
       "      <td>0.103688</td>\n",
       "      <td>0.042228</td>\n",
       "    </tr>\n",
       "  </tbody>\n",
       "</table>\n",
       "</div>"
      ],
      "text/plain": [
       "                            game_id  \\\n",
       "0  bfbf7a2b7ac635e67877b1ab87fd6629   \n",
       "1  945010afbf9a55bbdffcb0895f946155   \n",
       "2  e68e20f592457b875ce29757ab855dfe   \n",
       "\n",
       "                                        preview_link        ER       CTR  \n",
       "0  https://s3.us-east-1.amazonaws.com/a.futureadl...  0.209269  0.058438  \n",
       "1  https://s3.us-east-1.amazonaws.com/a.futureadl...  0.274552  0.074731  \n",
       "2  https://s3.us-east-1.amazonaws.com/a.futureadl...  0.103688  0.042228  "
      ]
     },
     "execution_count": 8,
     "metadata": {},
     "output_type": "execute_result"
    }
   ],
   "source": [
    "performance_data.head(\n",
    "    3\n",
    ")"
   ]
  },
  {
   "cell_type": "code",
   "execution_count": 9,
   "id": "7cd44b90",
   "metadata": {},
   "outputs": [
    {
     "data": {
      "text/plain": [
       "'https://s3.us-east-1.amazonaws.com/a.futureadlabs.com-us-east-1-backup/us-east-1/games/bfbf7a2b7ac635e67877b1ab87fd6629/b7a604b3b08f0862ef0e/index.html'"
      ]
     },
     "execution_count": 9,
     "metadata": {},
     "output_type": "execute_result"
    }
   ],
   "source": [
    "performance_data['preview_link'][0]"
   ]
  },
  {
   "cell_type": "code",
   "execution_count": 10,
   "id": "3f0fb329",
   "metadata": {},
   "outputs": [
    {
     "data": {
      "text/plain": [
       "(905, 4)"
      ]
     },
     "execution_count": 10,
     "metadata": {},
     "output_type": "execute_result"
    }
   ],
   "source": [
    "performance_data.shape"
   ]
  },
  {
   "cell_type": "code",
   "execution_count": 11,
   "id": "ed48e342",
   "metadata": {},
   "outputs": [
    {
     "name": "stderr",
     "output_type": "stream",
     "text": [
      "/home/abubeker_shamil/Automated_Ad_Storyboard_Synthesis/adluido/lib/python3.8/site-packages/tqdm/auto.py:21: TqdmWarning: IProgress not found. Please update jupyter and ipywidgets. See https://ipywidgets.readthedocs.io/en/stable/user_install.html\n",
      "  from .autonotebook import tqdm as notebook_tqdm\n"
     ]
    }
   ],
   "source": [
    "from src.data_preprocess import prepare_performance_data, create_text_embeddings, preprocess_images, process_concepts"
   ]
  },
  {
   "cell_type": "code",
   "execution_count": 18,
   "id": "e2400980",
   "metadata": {},
   "outputs": [
    {
     "name": "stderr",
     "output_type": "stream",
     "text": [
      "Processing images:   0%|          | 0/100 [00:00<?, ?it/s]/home/abubeker_shamil/Automated_Ad_Storyboard_Synthesis/adluido/lib/python3.8/site-packages/PIL/Image.py:1056: UserWarning: Palette images with Transparency expressed in bytes should be converted to RGBA images\n",
      "  warnings.warn(\n"
     ]
    },
    {
     "name": "stderr",
     "output_type": "stream",
     "text": [
      "Processing images: 100%|██████████| 100/100 [01:11<00:00,  1.39it/s]\n"
     ]
    }
   ],
   "source": [
    "# Preprocess images\n",
    "image_data = preprocess_images(assets_dir)\n",
    "# print(f\"Processed {len(image_data)} images\")"
   ]
  },
  {
   "cell_type": "code",
   "execution_count": 19,
   "id": "0a6b7843",
   "metadata": {},
   "outputs": [
    {
     "data": {
      "text/plain": [
       "10000"
      ]
     },
     "execution_count": 19,
     "metadata": {},
     "output_type": "execute_result"
    }
   ],
   "source": [
    "image_data"
   ]
  },
  {
   "cell_type": "code",
   "execution_count": 16,
   "id": "18dfb7dd",
   "metadata": {},
   "outputs": [],
   "source": [
    "a =np.load('processed_image_data_batch_0.npy', allow_pickle=True)"
   ]
  },
  {
   "cell_type": "code",
   "execution_count": 12,
   "id": "c710665f",
   "metadata": {},
   "outputs": [
    {
     "name": "stdout",
     "output_type": "stream",
     "text": [
      "Processed 115 concepts\n"
     ]
    }
   ],
   "source": [
    "# Process concepts\n",
    "concepts_df = process_concepts(concepts_path)\n",
    "print(f\"Processed {len(concepts_df)} concepts\")"
   ]
  },
  {
   "cell_type": "code",
   "execution_count": 13,
   "id": "099e565b",
   "metadata": {},
   "outputs": [
    {
     "name": "stdout",
     "output_type": "stream",
     "text": [
      "Created embeddings for concept explanations. Shape: (115, 768)\n"
     ]
    }
   ],
   "source": [
    "# Create text embeddings for concept explanations\n",
    "concept_embeddings = create_text_embeddings(concepts_df, 'explanation')\n",
    "print(f\"Created embeddings for concept explanations. Shape: {concept_embeddings.shape}\")"
   ]
  },
  {
   "cell_type": "code",
   "execution_count": 14,
   "id": "7dc4ed9d",
   "metadata": {},
   "outputs": [
    {
     "name": "stdout",
     "output_type": "stream",
     "text": [
      "Prepared performance data. Shape: (905, 4)\n"
     ]
    }
   ],
   "source": [
    "# Prepare performance data\n",
    "performance_df = prepare_performance_data(performance_data_path)\n",
    "print(f\"Prepared performance data. Shape: {performance_df.shape}\")"
   ]
  },
  {
   "cell_type": "code",
   "execution_count": 20,
   "id": "f19740ac",
   "metadata": {},
   "outputs": [],
   "source": [
    "# Save processed data\n",
    "np.save('processed_image_data_all.npy', image_data)\n",
    "concepts_df.to_csv('processed_concepts.csv', index=False)"
   ]
  },
  {
   "cell_type": "code",
   "execution_count": 21,
   "id": "63a6ca25",
   "metadata": {},
   "outputs": [
    {
     "name": "stdout",
     "output_type": "stream",
     "text": [
      "Data preprocessing completed and saved.\n"
     ]
    }
   ],
   "source": [
    "np.save('concept_embeddings.npy', concept_embeddings)\n",
    "performance_df.to_csv('processed_performance_data.csv', index=False)\n",
    "\n",
    "print(\"Data preprocessing completed and saved.\")"
   ]
  },
  {
   "cell_type": "code",
   "execution_count": 3,
   "id": "1cfb1ffe",
   "metadata": {},
   "outputs": [
    {
     "name": "stdout",
     "output_type": "stream",
     "text": [
      "0.21.0\n"
     ]
    }
   ],
   "source": [
    "import skimage as ski\n",
    "print(ski.__version__)"
   ]
  }
 ],
 "metadata": {
  "kernelspec": {
   "display_name": "Python 3 (ipykernel)",
   "language": "python",
   "name": "python3"
  },
  "language_info": {
   "codemirror_mode": {
    "name": "ipython",
    "version": 3
   },
   "file_extension": ".py",
   "mimetype": "text/x-python",
   "name": "python",
   "nbconvert_exporter": "python",
   "pygments_lexer": "ipython3",
   "version": "3.8.10"
  }
 },
 "nbformat": 4,
 "nbformat_minor": 5
}
