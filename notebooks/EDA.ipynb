{
 "cells": [
  {
   "cell_type": "code",
   "execution_count": 1,
   "id": "d9b11020-e721-4a4e-b905-1498096d44a7",
   "metadata": {},
   "outputs": [
    {
     "data": {
      "text/plain": [
       "'hello'"
      ]
     },
     "execution_count": 1,
     "metadata": {},
     "output_type": "execute_result"
    }
   ],
   "source": [
    "import sys\n",
    "import os\n",
    "import matplotlib.pyplot as plt\n",
    "\n",
    "# Add src to system path to import data_loader\n",
    "sys.path.append(os.path.abspath(os.path.join('..', 'src')))\n",
    "\n",
    "from data_loader import load_image, load_json\n",
    "\n",
    "# Define paths\n",
    "image_path = '../data/sample_image.jpg'  # Replace with actual path to your image\n",
    "json_path = '../data/sample_data.json'   # Replace with actual path to your JSON file\n",
    "\n",
    "# Load image and JSON data\n",
    "image = load_image(image_path)\n",
    "data = load_json(json_path)\n",
    "\n",
    "# Display image\n",
    "plt.imshow(image)\n",
    "plt.title('Sample Image')\n",
    "plt.show()\n",
    "\n",
    "# Print JSON data\n",
    "print(data)"
   ]
  }
 ],
 "metadata": {
  "kernelspec": {
   "display_name": "Python 3 (ipykernel)",
   "language": "python",
   "name": "python3"
  },
  "language_info": {
   "codemirror_mode": {
    "name": "ipython",
    "version": 3
   },
   "file_extension": ".py",
   "mimetype": "text/x-python",
   "name": "python",
   "nbconvert_exporter": "python",
   "pygments_lexer": "ipython3",
   "version": "3.10.14"
  }
 },
 "nbformat": 4,
 "nbformat_minor": 5
}
